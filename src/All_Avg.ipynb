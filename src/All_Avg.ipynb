{
 "cells": [
  {
   "cell_type": "code",
   "execution_count": 76,
   "id": "ac83a76f-427b-41eb-81d6-d10901c2abd6",
   "metadata": {},
   "outputs": [],
   "source": [
    "import json\n",
    "\n",
    "def read_jsonl_file(filepath):\n",
    "    \"\"\"\n",
    "    Reads the JSONL file and returns a list of dictionaries.\n",
    "    \n",
    "    Args:\n",
    "        filepath (str): Path to the JSONL file.\n",
    "    \n",
    "    Returns:\n",
    "        data (list): A list of dictionaries containing the data from the JSONL file.\n",
    "    \"\"\"\n",
    "    data = []\n",
    "    with open(filepath, 'r', encoding='utf-8') as file:\n",
    "        for line in file:\n",
    "            data.append(json.loads(line.strip()))\n",
    "    return data"
   ]
  },
  {
   "cell_type": "code",
   "execution_count": 77,
   "id": "18b10ace-4cf5-40dd-8ebd-e0b1fc36022b",
   "metadata": {},
   "outputs": [],
   "source": [
    "def extract_numerical_data(data):\n",
    "    \"\"\"\n",
    "    Extracts numerical fields from each entry in the data.\n",
    "    \n",
    "    Args:\n",
    "        data (list): A list of dictionaries containing data from the JSONL file.\n",
    "    \n",
    "    Returns:\n",
    "        numerical_data (dict): A dictionary containing lists of numerical values for each field.\n",
    "    \"\"\"\n",
    "    numerical_data = {\n",
    "        \"precision\": [],\n",
    "        \"recall\": [],\n",
    "        \"f1\": [],\n",
    "        \"onto_conf\": [],\n",
    "        \"rel_halluc\": [],\n",
    "        \"sub_halluc\": [],\n",
    "        \"obj_halluc\": []\n",
    "    }\n",
    "    \n",
    "    for entry in data:\n",
    "        numerical_data[\"precision\"].append(float(entry.get(\"precision\", 0.0)))\n",
    "        numerical_data[\"recall\"].append(float(entry.get(\"recall\", 0.0)))\n",
    "        numerical_data[\"f1\"].append(float(entry.get(\"f1\", 0.0)))\n",
    "        numerical_data[\"onto_conf\"].append(float(entry.get(\"onto_conf\", 0.0)))\n",
    "        numerical_data[\"rel_halluc\"].append(float(entry.get(\"rel_halluc\", 0.0)))\n",
    "        numerical_data[\"sub_halluc\"].append(float(entry.get(\"sub_halluc\", 0.0)))\n",
    "        numerical_data[\"obj_halluc\"].append(float(entry.get(\"obj_halluc\", 0.0)))\n",
    "    \n",
    "    return numerical_data"
   ]
  },
  {
   "cell_type": "code",
   "execution_count": 78,
   "id": "5df25422-c0b8-48f4-bce6-4aeb85a3d3ae",
   "metadata": {},
   "outputs": [],
   "source": [
    "def calculate_averages(numerical_data):\n",
    "    \"\"\"\n",
    "    Calculates the average for each numerical field and returns them with prefixed keys.\n",
    "    \n",
    "    Args:\n",
    "        numerical_data (dict): A dictionary containing lists of numerical values for each field.\n",
    "    \n",
    "    Returns:\n",
    "        averages (dict): A dictionary containing the average values for each field, with \"avg_\" prefix.\n",
    "    \"\"\"\n",
    "    averages = {\n",
    "        \"avg_precision\": 0.0,\n",
    "        \"avg_recall\": 0.0,\n",
    "        \"avg_f1\": 0.0,\n",
    "        \"avg_onto_conf\": 0.0,\n",
    "        \"avg_rel_halluc\": 0.0,\n",
    "        \"avg_sub_halluc\": 0.0,\n",
    "        \"avg_obj_halluc\": 0.0\n",
    "    }\n",
    "    \n",
    "    for key, values in numerical_data.items():\n",
    "        avg_key = f\"avg_{key}\"\n",
    "        if values:\n",
    "            averages[avg_key] = sum(values) / len(values)\n",
    "    \n",
    "    return averages\n"
   ]
  },
  {
   "cell_type": "code",
   "execution_count": 79,
   "id": "52b90e21-bd2d-4be2-bcfc-27c8aa29fe81",
   "metadata": {},
   "outputs": [],
   "source": [
    "def save_to_jsonl(data, output_filepath):\n",
    "    \"\"\"\n",
    "    Saves a list of dictionaries to a JSONL file.\n",
    "    \n",
    "    Args:\n",
    "        data (list): A list of dictionaries containing average values for each file.\n",
    "        output_filepath (str): The path to the output JSONL file.\n",
    "    \"\"\"\n",
    "    with open(output_filepath, 'w', encoding='utf-8') as file:\n",
    "        for record in data:\n",
    "            json.dump(record, file)\n",
    "            file.write(\"\\n\")"
   ]
  },
  {
   "cell_type": "code",
   "execution_count": 80,
   "id": "199e4fe2-0e07-446c-8e19-ff32179f3d73",
   "metadata": {},
   "outputs": [],
   "source": [
    "def process_multiple_files(files, output_filepath):\n",
    "    \"\"\"\n",
    "    Processes multiple files to calculate and save their average statistics.\n",
    "    \n",
    "    Args:\n",
    "        files (list): A list of tuples where each tuple contains:\n",
    "                      - the filepath to the file\n",
    "                      - the ontology name (e.g., \"1_movie\", \"2_music\")\n",
    "        output_filepath (str): The path to the output JSONL file.\n",
    "    \"\"\"\n",
    "    all_results = []\n",
    "    \n",
    "    for filepath, ontology in files:\n",
    "        # Step 1: Read the JSONL file\n",
    "        data = read_jsonl_file(filepath)\n",
    "        \n",
    "        # Step 2: Extract numerical data\n",
    "        numerical_data = extract_numerical_data(data)\n",
    "        \n",
    "        # Step 3: Calculate averages for \"all_test_cases\"\n",
    "        averages_all = calculate_averages(numerical_data)\n",
    "        averages_all.update({\"onto\": ontology, \"type\": \"all_test_cases\"})\n",
    "        all_results.append(averages_all)\n",
    "        \n",
    "        # Step 4: (Optional) Calculate averages for \"selected_test_cases\"\n",
    "        # In this case, you might want to filter specific entries from data to\n",
    "        # create a subset of test cases. For now, this is an example without filtering.\n",
    "     #   averages_selected = calculate_averages(numerical_data)  # Assuming it's the same data structure\n",
    "      #  averages_selected.update({\"onto\": ontology, \"type\": \"selected_test_cases\"})\n",
    "    \n",
    "      #  all_results.append(averages_selected)\n",
    "    \n",
    "    # Step 5: Save all the results to a single JSONL file\n",
    "    save_to_jsonl(all_results, output_filepath)"
   ]
  },
  {
   "cell_type": "code",
   "execution_count": 50,
   "id": "3a7c3608-de29-46ee-bb3e-7991d703859c",
   "metadata": {},
   "outputs": [],
   "source": [
    "# Example usage:\n",
    "\n",
    "files = [\n",
    "   ('/upb/users/b/balram/profiles/unix/cs/Text2KG/withont/data/dbpedia_webnig/evaluation_statistics/without_GT_stats/ont_12_monument_llm_stats_improved_without_batch_without_quant5.jsonl','11_meanoftransportation')\n",
    "]\n",
    "\n",
    "\n",
    "\n",
    "OUTPUT_FILEPATH = '/upb/users/b/balram/profiles/unix/cs/Text2KG/withont/data/dbpedia_webnig/overall_avg_Statistics/Llama/Llama_overall_averages_with_GT_12_monument_without_batch_without_quant5.jsonl'"
   ]
  },
  {
   "cell_type": "code",
   "execution_count": 42,
   "id": "4f4bcf64-ba03-4187-ba8d-2697c27e6ce0",
   "metadata": {},
   "outputs": [
    {
     "ename": "FileNotFoundError",
     "evalue": "[Errno 2] No such file or directory: '/upb/users/b/balram/profiles/unix/cs/Text2KG/withont/data/dbpedia_webnig/evaluation_statistics/without_GT_stats/ont_12_monument_llm_stats_improved_without_batch_without_quant5.jsonl'",
     "output_type": "error",
     "traceback": [
      "\u001b[0;31m---------------------------------------------------------------------------\u001b[0m",
      "\u001b[0;31mFileNotFoundError\u001b[0m                         Traceback (most recent call last)",
      "Cell \u001b[0;32mIn[42], line 1\u001b[0m\n\u001b[0;32m----> 1\u001b[0m \u001b[43mprocess_multiple_files\u001b[49m\u001b[43m(\u001b[49m\u001b[43mfiles\u001b[49m\u001b[43m,\u001b[49m\u001b[43m \u001b[49m\u001b[43mOUTPUT_FILEPATH\u001b[49m\u001b[43m)\u001b[49m\n",
      "Cell \u001b[0;32mIn[40], line 15\u001b[0m, in \u001b[0;36mprocess_multiple_files\u001b[0;34m(files, output_filepath)\u001b[0m\n\u001b[1;32m     11\u001b[0m all_results \u001b[38;5;241m=\u001b[39m []\n\u001b[1;32m     13\u001b[0m \u001b[38;5;28;01mfor\u001b[39;00m filepath, ontology \u001b[38;5;129;01min\u001b[39;00m files:\n\u001b[1;32m     14\u001b[0m     \u001b[38;5;66;03m# Step 1: Read the JSONL file\u001b[39;00m\n\u001b[0;32m---> 15\u001b[0m     data \u001b[38;5;241m=\u001b[39m \u001b[43mread_jsonl_file\u001b[49m\u001b[43m(\u001b[49m\u001b[43mfilepath\u001b[49m\u001b[43m)\u001b[49m\n\u001b[1;32m     17\u001b[0m     \u001b[38;5;66;03m# Step 2: Extract numerical data\u001b[39;00m\n\u001b[1;32m     18\u001b[0m     numerical_data \u001b[38;5;241m=\u001b[39m extract_numerical_data(data)\n",
      "Cell \u001b[0;32mIn[36], line 14\u001b[0m, in \u001b[0;36mread_jsonl_file\u001b[0;34m(filepath)\u001b[0m\n\u001b[1;32m      4\u001b[0m \u001b[38;5;250m\u001b[39m\u001b[38;5;124;03m\"\"\"\u001b[39;00m\n\u001b[1;32m      5\u001b[0m \u001b[38;5;124;03mReads the JSONL file and returns a list of dictionaries.\u001b[39;00m\n\u001b[1;32m      6\u001b[0m \u001b[38;5;124;03m\u001b[39;00m\n\u001b[0;32m   (...)\u001b[0m\n\u001b[1;32m     11\u001b[0m \u001b[38;5;124;03m    data (list): A list of dictionaries containing the data from the JSONL file.\u001b[39;00m\n\u001b[1;32m     12\u001b[0m \u001b[38;5;124;03m\"\"\"\u001b[39;00m\n\u001b[1;32m     13\u001b[0m data \u001b[38;5;241m=\u001b[39m []\n\u001b[0;32m---> 14\u001b[0m \u001b[38;5;28;01mwith\u001b[39;00m \u001b[38;5;28;43mopen\u001b[39;49m\u001b[43m(\u001b[49m\u001b[43mfilepath\u001b[49m\u001b[43m,\u001b[49m\u001b[43m \u001b[49m\u001b[38;5;124;43m'\u001b[39;49m\u001b[38;5;124;43mr\u001b[39;49m\u001b[38;5;124;43m'\u001b[39;49m\u001b[43m,\u001b[49m\u001b[43m \u001b[49m\u001b[43mencoding\u001b[49m\u001b[38;5;241;43m=\u001b[39;49m\u001b[38;5;124;43m'\u001b[39;49m\u001b[38;5;124;43mutf-8\u001b[39;49m\u001b[38;5;124;43m'\u001b[39;49m\u001b[43m)\u001b[49m \u001b[38;5;28;01mas\u001b[39;00m file:\n\u001b[1;32m     15\u001b[0m     \u001b[38;5;28;01mfor\u001b[39;00m line \u001b[38;5;129;01min\u001b[39;00m file:\n\u001b[1;32m     16\u001b[0m         data\u001b[38;5;241m.\u001b[39mappend(json\u001b[38;5;241m.\u001b[39mloads(line\u001b[38;5;241m.\u001b[39mstrip()))\n",
      "File \u001b[0;32m/opt/miniforge3/envs/jupyterhub/lib/python3.12/site-packages/IPython/core/interactiveshell.py:324\u001b[0m, in \u001b[0;36m_modified_open\u001b[0;34m(file, *args, **kwargs)\u001b[0m\n\u001b[1;32m    317\u001b[0m \u001b[38;5;28;01mif\u001b[39;00m file \u001b[38;5;129;01min\u001b[39;00m {\u001b[38;5;241m0\u001b[39m, \u001b[38;5;241m1\u001b[39m, \u001b[38;5;241m2\u001b[39m}:\n\u001b[1;32m    318\u001b[0m     \u001b[38;5;28;01mraise\u001b[39;00m \u001b[38;5;167;01mValueError\u001b[39;00m(\n\u001b[1;32m    319\u001b[0m         \u001b[38;5;124mf\u001b[39m\u001b[38;5;124m\"\u001b[39m\u001b[38;5;124mIPython won\u001b[39m\u001b[38;5;124m'\u001b[39m\u001b[38;5;124mt let you open fd=\u001b[39m\u001b[38;5;132;01m{\u001b[39;00mfile\u001b[38;5;132;01m}\u001b[39;00m\u001b[38;5;124m by default \u001b[39m\u001b[38;5;124m\"\u001b[39m\n\u001b[1;32m    320\u001b[0m         \u001b[38;5;124m\"\u001b[39m\u001b[38;5;124mas it is likely to crash IPython. If you know what you are doing, \u001b[39m\u001b[38;5;124m\"\u001b[39m\n\u001b[1;32m    321\u001b[0m         \u001b[38;5;124m\"\u001b[39m\u001b[38;5;124myou can use builtins\u001b[39m\u001b[38;5;124m'\u001b[39m\u001b[38;5;124m open.\u001b[39m\u001b[38;5;124m\"\u001b[39m\n\u001b[1;32m    322\u001b[0m     )\n\u001b[0;32m--> 324\u001b[0m \u001b[38;5;28;01mreturn\u001b[39;00m \u001b[43mio_open\u001b[49m\u001b[43m(\u001b[49m\u001b[43mfile\u001b[49m\u001b[43m,\u001b[49m\u001b[43m \u001b[49m\u001b[38;5;241;43m*\u001b[39;49m\u001b[43margs\u001b[49m\u001b[43m,\u001b[49m\u001b[43m \u001b[49m\u001b[38;5;241;43m*\u001b[39;49m\u001b[38;5;241;43m*\u001b[39;49m\u001b[43mkwargs\u001b[49m\u001b[43m)\u001b[49m\n",
      "\u001b[0;31mFileNotFoundError\u001b[0m: [Errno 2] No such file or directory: '/upb/users/b/balram/profiles/unix/cs/Text2KG/withont/data/dbpedia_webnig/evaluation_statistics/without_GT_stats/ont_12_monument_llm_stats_improved_without_batch_without_quant5.jsonl'"
     ]
    }
   ],
   "source": [
    "process_multiple_files(files, OUTPUT_FILEPATH)"
   ]
  },
  {
   "cell_type": "code",
   "execution_count": null,
   "id": "6a5fed89-fc94-498e-97d2-7d006ce99488",
   "metadata": {},
   "outputs": [],
   "source": []
  },
  {
   "cell_type": "code",
   "execution_count": null,
   "id": "14ba0234-ce92-41ff-a286-b26ca78aa489",
   "metadata": {},
   "outputs": [],
   "source": []
  },
  {
   "cell_type": "code",
   "execution_count": null,
   "id": "454a99b5-3fc8-44b3-929c-05c85ab419ff",
   "metadata": {},
   "outputs": [],
   "source": []
  },
  {
   "cell_type": "code",
   "execution_count": 43,
   "id": "05b4fa9a-f776-453c-bfe5-ad9810595bd2",
   "metadata": {},
   "outputs": [],
   "source": [
    "# Example usage:\n",
    "\n",
    "files = [\n",
    "    ( \"/upb/users/b/balram/profiles/unix/cs/Text2KG/withont/data/wikidata/evaluation_statistics/without_gt_Quant_batch_stats/ont_7_space_llm_stats_improved.jsonl\",\"'7_space'\")\n",
    "]\n",
    "\n",
    "\n",
    "\n",
    "OUTPUT_FILEPATH = '/upb/users/b/balram/profiles/unix/cs/Text2KG/withont/data/wikidata/overall_avg_Statistics/Llama/Llama_overall_averages_without_GT_7_space_latest.jsonl'"
   ]
  },
  {
   "cell_type": "code",
   "execution_count": 44,
   "id": "5d69a4b4-95df-404f-bcc9-1d78d620b74d",
   "metadata": {},
   "outputs": [],
   "source": [
    "process_multiple_files(files, OUTPUT_FILEPATH)"
   ]
  },
  {
   "cell_type": "code",
   "execution_count": 74,
   "id": "01a22bdd-4e8c-4d21-800d-966c4b0b9e2a",
   "metadata": {},
   "outputs": [],
   "source": [
    "files = [\n",
    "('/upb/users/b/balram/profiles/unix/cs/Text2KG/withont/data/dbpedia_webnig/evaluation_statistics/with_missing_GT/ont_1_university_llm_stats_improved.jsonl','1_university'),\n",
    "('/upb/users/b/balram/profiles/unix/cs/Text2KG/withont/data/dbpedia_webnig/evaluation_statistics/with_missing_GT/ont_2_musicalwork_llm_stats_improved.jsonl','2_musicalwork'),\n",
    "('/upb/users/b/balram/profiles/unix/cs/Text2KG/withont/data/dbpedia_webnig/evaluation_statistics/with_missing_GT/ont_3_airport_llm_stats_improved.jsonl','3_airport'),\n",
    "('/upb/users/b/balram/profiles/unix/cs/Text2KG/withont/data/dbpedia_webnig/evaluation_statistics/with_missing_GT/ont_4_building_llm_stats_improved.jsonl','4_building'),\n",
    "('/upb/users/b/balram/profiles/unix/cs/Text2KG/withont/data/dbpedia_webnig/evaluation_statistics/with_missing_GT/ont_5_athlete_llm_stats_improved.jsonl','5_athlete'),\n",
    "('/upb/users/b/balram/profiles/unix/cs/Text2KG/withont/data/dbpedia_webnig/evaluation_statistics/with_missing_GT/ont_6_politician_llm_stats_improved.jsonl','6_politician'),\n",
    "('/upb/users/b/balram/profiles/unix/cs/Text2KG/withont/data/dbpedia_webnig/evaluation_statistics/with_missing_GT/ont_7_company_llm_stats_improved.jsonl','7_company'),\n",
    "('/upb/users/b/balram/profiles/unix/cs/Text2KG/withont/data/dbpedia_webnig/evaluation_statistics/with_missing_GT/ont_8_celestialbody_llm_stats_improved.jsonl','8_celestialbody'),\n",
    "('/upb/users/b/balram/profiles/unix/cs/Text2KG/withont/data/dbpedia_webnig/evaluation_statistics/with_missing_GT/ont_9_astronaut_llm_stats_improved.jsonl','9_astronaut'),\n",
    "('/upb/users/b/balram/profiles/unix/cs/Text2KG/withont/data/dbpedia_webnig/evaluation_statistics/with_missing_GT/ont_10_comicscharacter_llm_stats_improved.jsonl', '10_comicscharacter'),\n",
    "('/upb/users/b/balram/profiles/unix/cs/Text2KG/withont/data/dbpedia_webnig/evaluation_statistics/with_missing_GT/ont_11_meanoftransportation_llm_stats_improved.jsonl','11_meanoftransportation'),\n",
    "('/upb/users/b/balram/profiles/unix/cs/Text2KG/withont/data/dbpedia_webnig/evaluation_statistics/with_missing_GT/ont_12_monument_llm_stats_improved.jsonl','12_monument'),\n",
    "('/upb/users/b/balram/profiles/unix/cs/Text2KG/withont/data/dbpedia_webnig/evaluation_statistics/with_missing_GT/ont_13_food_llm_stats_improved.jsonl','13_food'),\n",
    "('/upb/users/b/balram/profiles/unix/cs/Text2KG/withont/data/dbpedia_webnig/evaluation_statistics/with_missing_GT/ont_14_writtenwork_llm_stats_improved.jsonl','14_writtenwork'),\n",
    "('/upb/users/b/balram/profiles/unix/cs/Text2KG/withont/data/dbpedia_webnig/evaluation_statistics/with_missing_GT/ont_15_sportsteam_llm_stats_improved.jsonl','15_sportsteam'),\n",
    "('/upb/users/b/balram/profiles/unix/cs/Text2KG/withont/data/dbpedia_webnig/evaluation_statistics/with_missing_GT/ont_16_city_llm_stats_improved.jsonl','16_city'),\n",
    "('/upb/users/b/balram/profiles/unix/cs/Text2KG/withont/data/dbpedia_webnig/evaluation_statistics/with_missing_GT/ont_17_artist_llm_stats_improved.jsonl','17_artist'),\n",
    "('/upb/users/b/balram/profiles/unix/cs/Text2KG/withont/data/dbpedia_webnig/evaluation_statistics/with_missing_GT/ont_18_scientist_llm_stats_improved.jsonl','18_scientist'),\n",
    "('/upb/users/b/balram/profiles/unix/cs/Text2KG/withont/data/dbpedia_webnig/evaluation_statistics/with_missing_GT/ont_19_film_llm_stats_improved.jsonl','19_film'),\n",
    "]\n",
    "\n",
    "\n",
    "\n",
    "\n",
    "\n",
    "OUTPUT_FILEPATH = '/upb/users/b/balram/profiles/unix/cs/Text2KG/withont/data/dbpedia_webnig/overall_avg_Statistics/Llama/with_missing_GT/Llama_overall_averages_with_missing_GT.jsonl'"
   ]
  },
  {
   "cell_type": "code",
   "execution_count": 75,
   "id": "936f4eee-3016-4383-b43e-176f82b91c07",
   "metadata": {},
   "outputs": [],
   "source": [
    "process_multiple_files(files, OUTPUT_FILEPATH)"
   ]
  },
  {
   "cell_type": "code",
   "execution_count": null,
   "id": "25919130-a411-4fbd-9bf0-0480a5c1f571",
   "metadata": {},
   "outputs": [],
   "source": []
  },
  {
   "cell_type": "code",
   "execution_count": null,
   "id": "0dcd55f8-6f96-4cf1-8c06-6ab894ab421b",
   "metadata": {},
   "outputs": [],
   "source": []
  },
  {
   "cell_type": "code",
   "execution_count": null,
   "id": "d14d2255-0908-4984-87d1-3386f2a1ba78",
   "metadata": {},
   "outputs": [],
   "source": []
  },
  {
   "cell_type": "code",
   "execution_count": 34,
   "id": "70055db9-b687-401e-ac60-9cdb88d84141",
   "metadata": {},
   "outputs": [],
   "source": [
    "files = [\n",
    "(\"/upb/users/b/balram/profiles/unix/cs/Text2KG/withont/data/dbpedia_webnig/evaluation_statistics/without_gt_Quant_batch_stats/ont_12_monument_llm_stats_improved_test.jsonl\",'12_monument'),\n",
    "]\n",
    "\n",
    "\n",
    "\n",
    "\n",
    "\n",
    "OUTPUT_FILEPATH = '/upb/users/b/balram/profiles/unix/cs/Text2KG/withont/data/dbpedia_webnig/overall_avg_Statistics/Llama/Llama_overall_averages_without_GT_12_monument_llm_stats_improved_test.jsonl'"
   ]
  },
  {
   "cell_type": "code",
   "execution_count": 35,
   "id": "02b1200b-57d6-45c8-b149-85cfc73dc6fe",
   "metadata": {},
   "outputs": [],
   "source": [
    "process_multiple_files(files, OUTPUT_FILEPATH)"
   ]
  },
  {
   "cell_type": "code",
   "execution_count": null,
   "id": "8d6335fb-58c9-483c-aad4-bf62f69d37c1",
   "metadata": {},
   "outputs": [],
   "source": [
    "#### This for with including those GT which have no triples"
   ]
  },
  {
   "cell_type": "code",
   "execution_count": 86,
   "id": "2fe60706-e1fe-443f-9dd7-1f83c4241b15",
   "metadata": {},
   "outputs": [],
   "source": [
    "files = [\n",
    "    ('/upb/users/b/balram/profiles/unix/cs/Text2KG/withont/data/wikidata/evaluation_statistics/without_missing_GT/ont_1_movie_llm_stats_improved.jsonl', '1_movie'),\n",
    "   #('/upb/users/b/balram/profiles/unix/cs/Text2KG/withont/data/wikidata/evaluation_statistics/without_missing_GT/ont_2_music_llm_stats_improved.jsonl', '2_music'),\n",
    "    ('/upb/users/b/balram/profiles/unix/cs/Text2KG/withont/data/wikidata/evaluation_statistics/without_missing_GT/ont_3_sport_llm_stats_improved.jsonl', '3_sport'),\n",
    "    #('/upb/users/b/balram/profiles/unix/cs/Text2KG/withont/data/wikidata/evaluation_statistics/without_missing_GT//ont_4_book_llm_stats_improved.jsonl', '4_book'),\n",
    "    #('/upb/users/b/balram/profiles/unix/cs/Text2KG/withont/data/wikidata/evaluation_statistics/without_missing_GT/ont_5_military_llm_stats_improved.jsonl', '5_military'),\n",
    "    ('/upb/users/b/balram/profiles/unix/cs/Text2KG/withont/data/wikidata/evaluation_statistics/without_missing_GT/ont_6_computer_llm_stats_improved.jsonl', '6_computer'),\n",
    "    ('/upb/users/b/balram/profiles/unix/cs/Text2KG/withont/data/wikidata/evaluation_statistics/without_missing_GT/ont_7_space_llm_stats_improved.jsonl', '7_space'),\n",
    "    ('/upb/users/b/balram/profiles/unix/cs/Text2KG/withont/data/wikidata/evaluation_statistics/without_missing_GT/ont_8_politics_llm_stats_improved.jsonl', '8_politics'),\n",
    "    #('/upb/users/b/balram/profiles/unix/cs/Text2KG/withont/data/wikidata/evaluation_statistics/without_missing_GT/ont_9_nature_llm_stats_improved.jsonl', '9_nature'),\n",
    "    #('/upb/users/b/balram/profiles/unix/cs/Text2KG/withont/data/wikidata/evaluation_statistics/without_missing_GT/ont_10_culture_llm_stats_improved.jsonl', '10_culture'),\n",
    "]\n",
    "\n",
    "\n",
    "\n",
    "\n",
    "\n",
    "OUTPUT_FILEPATH = '/upb/users/b/balram/profiles/unix/cs/Text2KG/withont/data/wikidata/overall_avg_Statistics/Llama/without_missing_GT/Llama_overall_averages_without_missing_GT.jsonl'"
   ]
  },
  {
   "cell_type": "code",
   "execution_count": 87,
   "id": "13109dfc-86a4-4a86-8f7c-b6dd9b93979c",
   "metadata": {},
   "outputs": [],
   "source": [
    "process_multiple_files(files, OUTPUT_FILEPATH)"
   ]
  },
  {
   "cell_type": "code",
   "execution_count": null,
   "id": "79965054-1701-4ced-b187-6a87a7f45d78",
   "metadata": {},
   "outputs": [],
   "source": []
  },
  {
   "cell_type": "code",
   "execution_count": null,
   "id": "49ba4850-5528-42ca-81c8-6b04b119c942",
   "metadata": {},
   "outputs": [],
   "source": []
  },
  {
   "cell_type": "code",
   "execution_count": 32,
   "id": "7ab54364-ccf5-475c-a6de-42c0fa908850",
   "metadata": {},
   "outputs": [],
   "source": [
    "files = [\n",
    "('/upb/users/b/balram/profiles/unix/cs/Text2KG/withont/data/dbpedia_webnig/evaluation_statistics/without_gt_Quant_batch_stats/ont_11_meanoftransportation_llm_stats_improved.jsonl','11_meanoftransportation'),\n",
    "('/upb/users/b/balram/profiles/unix/cs/Text2KG/withont/data/dbpedia_webnig/evaluation_statistics/without_gt_Quant_batch_stats/ont_12_monument_llm_stats_improved.jsonl','12_monument'),\n",
    "('/upb/users/b/balram/profiles/unix/cs/Text2KG/withont/data/dbpedia_webnig/evaluation_statistics/without_gt_Quant_batch_stats/ont_2_musicalwork_llm_stats_improved.jsonl','2_musicalwork'),\n",
    "('/upb/users/b/balram/profiles/unix/cs/Text2KG/withont/data/dbpedia_webnig/evaluation_statistics/without_gt_Quant_batch_stats/ont_3_airport_llm_stats_improved.jsonl','3_airport'),\n",
    "('/upb/users/b/balram/profiles/unix/cs/Text2KG/withont/data/dbpedia_webnig/evaluation_statistics/without_gt_Quant_batch_stats/ont_6_politician_llm_stats_improved.jsonl','6_politician'),\n",
    "('/upb/users/b/balram/profiles/unix/cs/Text2KG/withont/data/dbpedia_webnig/evaluation_statistics/without_gt_Quant_batch_stats/ont_7_company_llm_stats_improved.jsonl','7_company'),\n",
    "('/upb/users/b/balram/profiles/unix/cs/Text2KG/withont/data/dbpedia_webnig/evaluation_statistics/without_gt_Quant_batch_stats/ont_8_celestialbody_llm_stats_improved.jsonl','8_celestialbody'),\n",
    "]\n",
    "\n",
    "\n",
    "\n",
    "\n",
    "\n",
    "OUTPUT_FILEPATH = '/upb/users/b/balram/profiles/unix/cs/Text2KG/withont/data/dbpedia_webnig/overall_avg_Statistics/Llama/Llama_overall_averages_without_gt_Quant_batch_stats.jsonl'"
   ]
  },
  {
   "cell_type": "code",
   "execution_count": 33,
   "id": "cf0c0267-f0d0-4b86-82bb-ef2d5e29ee2a",
   "metadata": {},
   "outputs": [],
   "source": [
    "process_multiple_files(files, OUTPUT_FILEPATH)"
   ]
  },
  {
   "cell_type": "code",
   "execution_count": null,
   "id": "1abd02a8-b24f-4bd9-ae29-8cc5da75844d",
   "metadata": {},
   "outputs": [],
   "source": []
  }
 ],
 "metadata": {
  "kernelspec": {
   "display_name": "Python 3 (ipykernel)",
   "language": "python",
   "name": "python3"
  },
  "language_info": {
   "codemirror_mode": {
    "name": "ipython",
    "version": 3
   },
   "file_extension": ".py",
   "mimetype": "text/x-python",
   "name": "python",
   "nbconvert_exporter": "python",
   "pygments_lexer": "ipython3",
   "version": "3.12.5"
  }
 },
 "nbformat": 4,
 "nbformat_minor": 5
}
